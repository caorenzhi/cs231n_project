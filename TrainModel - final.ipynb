{
 "cells": [
  {
   "cell_type": "code",
   "execution_count": 1,
   "metadata": {
    "collapsed": false
   },
   "outputs": [],
   "source": [
    "\n",
    "from __future__ import print_function, division\n",
    "\n",
    "import torch\n",
    "import torch.nn as nn\n",
    "import torch.optim as optim\n",
    "from torch.autograd import Variable\n",
    "import numpy as np\n",
    "import torchvision\n",
    "from torchvision import datasets, models, transforms\n",
    "import matplotlib.pyplot as plt\n",
    "import time\n",
    "import copy\n",
    "import os\n",
    "\n",
    "%matplotlib inline\n",
    "plt.ion()   # interactive mode"
   ]
  },
  {
   "cell_type": "code",
   "execution_count": 2,
   "metadata": {
    "collapsed": false
   },
   "outputs": [
    {
     "name": "stdout",
     "output_type": "stream",
     "text": [
      "['care', 'empty', 'sit', 'sleep', 'stand']\n",
      "{'test': 269, 'train': 6644, 'val': 570}\n"
     ]
    }
   ],
   "source": [
    "##############################################\n",
    "# STEP 1:  LOAD DATA, DEFINE BATCHES         #\n",
    "##############################################\n",
    "\n",
    "input_size = 224 #for resnet\n",
    "#input_size = 227 #for alexnet\n",
    "\n",
    "data_transforms = {\n",
    "    'train': transforms.Compose([\n",
    "        transforms.Scale(input_size),\n",
    "        #transforms.RandomSizedCrop(input_size),\n",
    "        #transforms.RandomHorizontalFlip(),\n",
    "        transforms.CenterCrop(input_size),\n",
    "        transforms.ToTensor(),\n",
    "        transforms.Normalize([0.485, 0.456, 0.406], [0.229, 0.224, 0.225])\n",
    "    ]),\n",
    "    'val': transforms.Compose([\n",
    "        transforms.Scale(input_size),\n",
    "        transforms.CenterCrop(input_size),\n",
    "        transforms.ToTensor(),\n",
    "        transforms.Normalize([0.485, 0.456, 0.406], [0.229, 0.224, 0.225])\n",
    "    ]),\n",
    "    'test': transforms.Compose([\n",
    "        transforms.Scale(input_size),\n",
    "        transforms.CenterCrop(input_size),\n",
    "        transforms.ToTensor(),\n",
    "        transforms.Normalize([0.485, 0.456, 0.406], [0.229, 0.224, 0.225])\n",
    "    ]),\n",
    "}\n",
    "\n",
    "data_dir = 'baby7aug'  #select data source\n",
    "inc_test = True\n",
    "\n",
    "if inc_test ==False:\n",
    "    dsets = {x: datasets.ImageFolder(os.path.join(data_dir, x), data_transforms[x])\n",
    "         for x in ['train', 'val']}\n",
    "    dset_loaders = {x: torch.utils.data.DataLoader(dsets[x], batch_size=32,\n",
    "                                               shuffle=True, num_workers=4)\n",
    "                for x in ['train', 'val']}\n",
    "    dset_sizes = {x: len(dsets[x]) for x in ['train', 'val']}\n",
    "\n",
    "else:\n",
    "\n",
    "    dsets = {x: datasets.ImageFolder(os.path.join(data_dir, x), data_transforms[x])\n",
    "             for x in ['train', 'val', 'test']}\n",
    "    dset_loaders = {x: torch.utils.data.DataLoader(dsets[x], batch_size=32,\n",
    "                                                   shuffle=True, num_workers=4)\n",
    "                    for x in ['train', 'val', 'test']}\n",
    "    dset_sizes = {x: len(dsets[x]) for x in ['train', 'val', 'test']}\n",
    "\n",
    "\n",
    "\n",
    "\n",
    "dset_classes = dsets['train'].classes\n",
    "print (dset_classes)\n",
    "print (dset_sizes)\n",
    "use_gpu = torch.cuda.is_available()"
   ]
  },
  {
   "cell_type": "code",
   "execution_count": 3,
   "metadata": {
    "collapsed": false
   },
   "outputs": [],
   "source": [
    "##############################################\n",
    "# STEP 3:  DEFINE TRAIN MODEL                #\n",
    "##############################################\n",
    "\n",
    "def train_model(model, criterion, optimizer, lr_scheduler, num_epochs=25, val_check=True, verbose=False, lr=0.001):\n",
    "    since = time.time()\n",
    "\n",
    "    best_model = model\n",
    "    best_acc = 0.0\n",
    "    training_data = []\n",
    "    val_acc = []\n",
    "    train_loss = []\n",
    "    train_acc = []\n",
    "    validation_acc =0.0\n",
    "\n",
    "    for epoch in range(num_epochs):\n",
    "        print('Epoch {}/{}'.format(epoch, num_epochs - 1))\n",
    "        print('-' * 10)\n",
    "\n",
    "        # Each epoch has a training and validation phase\n",
    "        for phase in ['train']:\n",
    "            if phase == 'train':\n",
    "                optimizer = lr_scheduler(optimizer, epoch, lr)\n",
    "                model.train(True)  # Set model to training mode\n",
    "            else:\n",
    "                model.train(False)  # Set model to evaluate mode\n",
    "\n",
    "            running_loss = 0.0\n",
    "            running_corrects = 0\n",
    "\n",
    "            # Iterate over data.\n",
    "            for i, data in enumerate(dset_loaders[phase]):\n",
    "                # get the inputs\n",
    "                inputs, labels = data\n",
    "\n",
    "                # wrap them in Variable\n",
    "                if use_gpu:\n",
    "                    inputs, labels = Variable(inputs.cuda()), \\\n",
    "                        Variable(labels.cuda())\n",
    "                else:\n",
    "                    inputs, labels = Variable(inputs), Variable(labels)\n",
    "\n",
    "                # zero the parameter gradients\n",
    "                optimizer.zero_grad()\n",
    "\n",
    "                # forward\n",
    "                outputs = model(inputs)\n",
    "                _, preds = torch.max(outputs.data, 1)\n",
    "                loss = criterion(outputs, labels)\n",
    "\n",
    "                # backward + optimize only if in training phase\n",
    "                if phase == 'train':\n",
    "                    loss.backward()\n",
    "                    optimizer.step()\n",
    "\n",
    "                # statistics\n",
    "                running_loss += loss.data[0]\n",
    "                running_corrects += torch.sum(preds == labels.data)\n",
    "                batch_acc = torch.sum(preds == labels.data) / 32 #hardcoded batchsize\n",
    "                \n",
    "                # print out results per batch & save to array\n",
    "                if verbose:\n",
    "                    print('{} Loss - batch {}: {:.4f} Acc: {:.4f} Val Acc:{:.4f}'.format(\n",
    "                            phase, i, loss.data[0], batch_acc, validation_acc))\n",
    "                train_loss.append(loss.data[0])\n",
    "                train_acc.append(batch_acc)\n",
    "                \n",
    "                # validation check per batch & save to array\n",
    "                if val_check:\n",
    "                    validation_acc = accuracy_check(model_ft, verbose=False, phase=\"val\")\n",
    "                    val_acc.append(validation_acc)\n",
    "                    #print('val accuracy check: {:.4f}'.format(validation_acc))\n",
    "\n",
    "            epoch_loss = running_loss / dset_sizes[phase]\n",
    "            epoch_acc = running_corrects / dset_sizes[phase]\n",
    "            validation_acc = accuracy_check(model_ft, verbose=False, phase=\"val\")\n",
    "            print('Train Loss: {:.4f} Train Acc: {:.4f} Val Acc:{:.4f}'.format(epoch_loss, epoch_acc, validation_acc))\n",
    "\n",
    "            # deep copy the model\n",
    "            if validation_acc > best_acc:\n",
    "                best_acc = validation_acc\n",
    "                best_model = copy.deepcopy(model)\n",
    "\n",
    "        print()\n",
    "\n",
    "    time_elapsed = time.time() - since\n",
    "    print('Training complete in {:.0f}m {:.0f}s'.format(\n",
    "        time_elapsed // 60, time_elapsed % 60))\n",
    "    print('Best val Acc: {:4f}'.format(best_acc))\n",
    "    return best_model, best_acc, train_loss, train_acc, val_acc"
   ]
  },
  {
   "cell_type": "code",
   "execution_count": 4,
   "metadata": {
    "collapsed": true
   },
   "outputs": [],
   "source": [
    "def exp_lr_scheduler(optimizer, epoch, init_lr=0.001, lr_decay_epoch=7):\n",
    "    \"\"\"Decay learning rate by a factor of 0.1 every lr_decay_epoch epochs.\"\"\"\n",
    "    lr = init_lr * (0.1**(epoch // lr_decay_epoch))\n",
    "\n",
    "    if epoch % lr_decay_epoch == 0:\n",
    "        print('LR is set to {}'.format(lr))\n",
    "\n",
    "    for param_group in optimizer.param_groups:\n",
    "        param_group['lr'] = lr\n",
    "\n",
    "    return optimizer\n",
    "\n",
    "def accuracy_check(model, verbose=True, verbose_img=False, phase=\"val\"):\n",
    "    \n",
    "    tot_matrix = np.zeros((5, 5))\n",
    "    acc_matrix = np.zeros((5, 5), dtype=float)\n",
    "    #images_so_far = 0\n",
    "    \n",
    "    # Iterate over data.\n",
    "    for i, data in enumerate(dset_loaders[phase]):\n",
    "        # get the inputs\n",
    "        inputs, labels = data\n",
    "\n",
    "        # wrap them in Variable\n",
    "        if use_gpu:\n",
    "            inputs, labels = Variable(inputs.cuda()), \\\n",
    "                Variable(labels.cuda())\n",
    "        else:\n",
    "            inputs, labels = Variable(inputs), Variable(labels)\n",
    "\n",
    "        # forward\n",
    "        outputs = model(inputs)\n",
    "        _, preds = torch.max(outputs.data, 1)\n",
    "        \n",
    "        # loops through each item in the batch\n",
    "        for j in range(inputs.size()[0]):\n",
    "            tot_matrix[preds[j][0]][labels.data[j]] += 1\n",
    "            \n",
    "            # if verbose_img flag is on then show wrong ones\n",
    "            if verbose_img and (preds[j][0]!=labels.data[j]):\n",
    "                plt.figure(figsize=(50,20))\n",
    "                titletxt = 'predicted: {}, actual:{}'.format(dset_classes[preds[j][0]], dset_classes[labels.data[j]])\n",
    "                imshow(inputs.cpu().data[j], title=titletxt)\n",
    "                #imshow(inputs.cpu().data[j])\n",
    "                \n",
    "    \n",
    "    acc_matrix = tot_matrix / np.sum(tot_matrix,axis=0)\n",
    "    np.set_printoptions(precision=2)\n",
    "    accuracy = np.sum(np.identity(5)*tot_matrix)/np.sum(tot_matrix)\n",
    "    \n",
    "    \n",
    "    if verbose:\n",
    "        print('{} Accuracy = {:.4f}'.format(phase, accuracy))\n",
    "        print(np.sum(tot_matrix,axis=0))\n",
    "        print('total samples: {:.2f}'.format(np.sum(tot_matrix)))\n",
    "        print(\"Accuracy\")\n",
    "        print(acc_matrix)\n",
    "        print(\"Total\")\n",
    "        print(tot_matrix)\n",
    "    \n",
    "    return accuracy"
   ]
  },
  {
   "cell_type": "code",
   "execution_count": 5,
   "metadata": {
    "collapsed": false
   },
   "outputs": [
    {
     "name": "stdout",
     "output_type": "stream",
     "text": [
      "Epoch 0/1\n",
      "----------\n",
      "LR is set to 0.00019601905020710125\n",
      "Train Loss: 0.0314 Train Acc: 0.6443 Val Acc:0.8596\n",
      "\n",
      "Epoch 1/1\n",
      "----------\n",
      "Train Loss: 0.0176 Train Acc: 0.8204 Val Acc:0.8561\n",
      "\n",
      "Training complete in 2m 55s\n",
      "Best val Acc: 0.859649\n",
      "Epoch 0/1\n",
      "----------\n",
      "LR is set to 0.0004914089956027889\n",
      "Train Loss: 0.0190 Train Acc: 0.7932 Val Acc:0.8737\n",
      "\n",
      "Epoch 1/1\n",
      "----------\n",
      "Train Loss: 0.0109 Train Acc: 0.8764 Val Acc:0.9228\n",
      "\n",
      "Training complete in 2m 17s\n",
      "Best val Acc: 0.922807\n",
      "Epoch 0/1\n",
      "----------\n",
      "LR is set to 0.0006984560132174476\n",
      "Train Loss: 0.0093 Train Acc: 0.9022 Val Acc:0.8421\n",
      "\n",
      "Epoch 1/1\n",
      "----------\n",
      "Train Loss: 0.0064 Train Acc: 0.9255 Val Acc:0.9070\n",
      "\n",
      "Training complete in 2m 18s\n",
      "Best val Acc: 0.907018\n",
      "Epoch 0/1\n",
      "----------\n",
      "LR is set to 0.0003444541068157595\n",
      "Train Loss: 0.0032 Train Acc: 0.9622 Val Acc:0.9579\n",
      "\n",
      "Epoch 1/1\n",
      "----------\n",
      "Train Loss: 0.0026 Train Acc: 0.9672 Val Acc:0.9667\n",
      "\n",
      "Training complete in 2m 17s\n",
      "Best val Acc: 0.966667\n",
      "Epoch 0/1\n",
      "----------\n",
      "LR is set to 0.00020193544048334997\n",
      "Train Loss: 0.0016 Train Acc: 0.9780 Val Acc:0.9719\n",
      "\n",
      "Epoch 1/1\n",
      "----------\n",
      "Train Loss: 0.0013 Train Acc: 0.9825 Val Acc:0.9684\n",
      "\n",
      "Training complete in 2m 18s\n",
      "Best val Acc: 0.971930\n",
      "Epoch 0/1\n",
      "----------\n",
      "LR is set to 0.00022599025636691806\n",
      "Train Loss: 0.0016 Train Acc: 0.9794 Val Acc:0.9544\n",
      "\n",
      "Epoch 1/1\n",
      "----------\n",
      "Train Loss: 0.0014 Train Acc: 0.9812 Val Acc:0.9632\n",
      "\n",
      "Training complete in 2m 18s\n",
      "Best val Acc: 0.963158\n",
      "Epoch 0/1\n",
      "----------\n",
      "LR is set to 0.0003314391520701376\n",
      "Train Loss: 0.0014 Train Acc: 0.9806 Val Acc:0.9596\n",
      "\n",
      "Epoch 1/1\n",
      "----------\n",
      "Train Loss: 0.0019 Train Acc: 0.9755 Val Acc:0.9596\n",
      "\n",
      "Training complete in 2m 18s\n",
      "Best val Acc: 0.959649\n",
      "Epoch 0/1\n",
      "----------\n",
      "LR is set to 0.0006470342859316465\n",
      "Train Loss: 0.0027 Train Acc: 0.9622 Val Acc:0.9316\n",
      "\n",
      "Epoch 1/1\n",
      "----------\n",
      "Train Loss: 0.0033 Train Acc: 0.9582 Val Acc:0.9158\n",
      "\n",
      "Training complete in 2m 17s\n",
      "Best val Acc: 0.931579\n",
      "Epoch 0/1\n",
      "----------\n",
      "LR is set to 0.0009718090758347303\n",
      "Train Loss: 0.0049 Train Acc: 0.9411 Val Acc:0.8684\n",
      "\n",
      "Epoch 1/1\n",
      "----------\n",
      "Train Loss: 0.0035 Train Acc: 0.9574 Val Acc:0.9596\n",
      "\n",
      "Training complete in 2m 17s\n",
      "Best val Acc: 0.959649\n",
      "Epoch 0/1\n",
      "----------\n",
      "LR is set to 0.0006168157810332747\n",
      "Train Loss: 0.0015 Train Acc: 0.9809 Val Acc:0.9667\n",
      "\n",
      "Epoch 1/1\n",
      "----------\n",
      "Train Loss: 0.0012 Train Acc: 0.9846 Val Acc:0.9474\n",
      "\n",
      "Training complete in 2m 17s\n",
      "Best val Acc: 0.966667\n",
      "Best Validation Accuracy = 0.9719\n"
     ]
    }
   ],
   "source": [
    "'''\n",
    "#-----------------------------------------------------------\n",
    "#ResNet\n",
    "#-----------------------------------------------------------\n",
    "\n",
    "model_ft = models.resnet18(pretrained=True)\n",
    "\n",
    "#freeze weights in ResNet\n",
    "for param in model_ft.parameters():\n",
    "    param.requires_grad = True\n",
    "\n",
    "num_ftrs = model_ft.fc.in_features\n",
    "model_ft.fc = nn.Linear(num_ftrs, 5)\n",
    "'''\n",
    "'''\n",
    "#-----------------------------------------------------------\n",
    "#AlexNet  (note!  need to change input size to 227 not 224)\n",
    "#-----------------------------------------------------------\n",
    "model_ft = models.alexnet(pretrained=True)\n",
    "#print (list(model_ft_temp.classifier.children()))\n",
    "#print (list(list(model_ft_temp.classifier.children())[1].parameters()))\n",
    "mod = list(model_ft.classifier.children())\n",
    "mod.pop()\n",
    "mod.append(torch.nn.Linear(4096, 5))\n",
    "new_classifier = torch.nn.Sequential(*mod)\n",
    "#print (list(list(new_classifier.children())[1].parameters()))\n",
    "model_ft.classifier = new_classifier\n",
    "\n",
    "'''\n",
    "\n",
    "#-----------------------------------------------------------\n",
    "#SqueezeNet 1.1\n",
    "#-----------------------------------------------------------\n",
    "model_ft = models.squeezenet1_1(pretrained=True)\n",
    "for param in model_ft.parameters():\n",
    "    param.requires_grad = True\n",
    "\n",
    "model_ft.num_classes = 5\n",
    "\n",
    "new_classifier = nn.Sequential(\n",
    "                nn.Dropout(p=0.5),\n",
    "                nn.Conv2d(512, 5, kernel_size=1),\n",
    "                nn.ReLU(inplace=True),\n",
    "                nn.AvgPool2d(13)\n",
    "            )\n",
    "    \n",
    "model_ft.classifier = new_classifier\n",
    "    \n",
    "    \n",
    "    \n",
    "\n",
    "best_val_acc = 0\n",
    "\n",
    "loops = 10\n",
    "\n",
    "for i in range(loops):\n",
    "    \n",
    "    #lrtest = 10.0**(-1*np.random.uniform(3,4))\n",
    "    #lrtest = 0.00026\n",
    "    lrtest = np.random.uniform(0.001, 0.0001)\n",
    "    if use_gpu:\n",
    "        model_ft = model_ft.cuda()\n",
    "        \n",
    "    #class_weights = torch.cuda.FloatTensor((0.1,0.1,0.1,0.01,100))\n",
    "    class_weights = torch.cuda.FloatTensor((0.4,0.15,0.132,0.025,0.07))\n",
    "    criterion = nn.CrossEntropyLoss(weight=class_weights)\n",
    "    #criterion = nn.CrossEntropyLoss()\n",
    "\n",
    "    #for changing weights\n",
    "    optimizer_ft = optim.SGD(model_ft.parameters(), lr=lrtest, momentum=0.9)\n",
    "    \n",
    "    #for fixed weights\n",
    "    #optimizer_ft = optim.SGD(model_ft.fc.parameters(), lr=lrtest, momentum=0.9)\n",
    "\n",
    "    model_ft, best_acc, train_loss_array, train_acc_array, val_acc_array = train_model(model_ft, criterion, optimizer_ft, \n",
    "                        exp_lr_scheduler,num_epochs=2, val_check=False, verbose=False, lr=lrtest)\n",
    "    \n",
    "    if best_val_acc < best_acc:\n",
    "        best_val_acc = best_acc\n",
    "        best_model = model_ft\n",
    "\n",
    "print ('Best Validation Accuracy = {:.4f}'.format(best_val_acc)) \n"
   ]
  },
  {
   "cell_type": "code",
   "execution_count": 6,
   "metadata": {
    "collapsed": true
   },
   "outputs": [],
   "source": [
    "torch.save(best_model, 'weightedloss_lrloop_SqueezeNet1_1_baby7aug.pt')"
   ]
  },
  {
   "cell_type": "code",
   "execution_count": 7,
   "metadata": {
    "collapsed": false
   },
   "outputs": [
    {
     "data": {
      "text/plain": [
       "[<matplotlib.lines.Line2D at 0x7f0ae4a2a2e8>]"
      ]
     },
     "execution_count": 7,
     "metadata": {},
     "output_type": "execute_result"
    },
    {
     "data": {
      "image/png": "[encoded data removed]",
      "text/plain": [
       "<matplotlib.figure.Figure at 0x7f0ae4a2a198>"
      ]
     },
     "metadata": {},
     "output_type": "display_data"
    }
   ],
   "source": [
    "# Graph of train and val accuracies\n",
    "\n",
    "plt.plot(train_acc_array)\n",
    "plt.plot(val_acc_array)"
   ]
  },
  {
   "cell_type": "code",
   "execution_count": 8,
   "metadata": {
    "collapsed": false
   },
   "outputs": [
    {
     "data": {
      "text/plain": [
       "[<matplotlib.lines.Line2D at 0x7f0ae96a5208>]"
      ]
     },
     "execution_count": 8,
     "metadata": {},
     "output_type": "execute_result"
    },
    {
     "data": {
      "image/png": "[encoded data removed]",
      "text/plain": [
       "<matplotlib.figure.Figure at 0x7f0b48bddac8>"
      ]
     },
     "metadata": {},
     "output_type": "display_data"
    }
   ],
   "source": [
    "plt.plot(train_loss_array)"
   ]
  },
  {
   "cell_type": "code",
   "execution_count": 9,
   "metadata": {
    "collapsed": false
   },
   "outputs": [
    {
     "name": "stdout",
     "output_type": "stream",
     "text": [
      "train Accuracy = 0.9926\n",
      "[  144.   768.   704.  3868.  1160.]\n",
      "total samples: 6644.00\n",
      "Accuracy\n",
      "[[  1.00e+00   0.00e+00   0.00e+00   1.03e-03   1.72e-03]\n",
      " [  0.00e+00   9.99e-01   0.00e+00   5.17e-04   0.00e+00]\n",
      " [  0.00e+00   0.00e+00   9.91e-01   3.36e-03   1.64e-02]\n",
      " [  0.00e+00   1.30e-03   8.52e-03   9.95e-01   0.00e+00]\n",
      " [  0.00e+00   0.00e+00   0.00e+00   5.17e-04   9.82e-01]]\n",
      "Total\n",
      "[[  1.44e+02   0.00e+00   0.00e+00   4.00e+00   2.00e+00]\n",
      " [  0.00e+00   7.67e+02   0.00e+00   2.00e+00   0.00e+00]\n",
      " [  0.00e+00   0.00e+00   6.98e+02   1.30e+01   1.90e+01]\n",
      " [  0.00e+00   1.00e+00   6.00e+00   3.85e+03   0.00e+00]\n",
      " [  0.00e+00   0.00e+00   0.00e+00   2.00e+00   1.14e+03]]\n"
     ]
    },
    {
     "data": {
      "text/plain": [
       "0.99262492474413"
      ]
     },
     "execution_count": 9,
     "metadata": {},
     "output_type": "execute_result"
    }
   ],
   "source": [
    "accuracy_check(model_ft, verbose=True, verbose_img=False, phase=\"train\")"
   ]
  },
  {
   "cell_type": "code",
   "execution_count": 10,
   "metadata": {
    "collapsed": false
   },
   "outputs": [
    {
     "name": "stdout",
     "output_type": "stream",
     "text": [
      "val Accuracy = 0.9561\n",
      "[   9.   55.   69.  341.   96.]\n",
      "total samples: 570.00\n",
      "Accuracy\n",
      "[[ 0.89  0.    0.    0.    0.02]\n",
      " [ 0.    0.96  0.04  0.    0.03]\n",
      " [ 0.    0.    0.87  0.    0.01]\n",
      " [ 0.11  0.02  0.07  0.99  0.05]\n",
      " [ 0.    0.02  0.01  0.    0.89]]\n",
      "Total\n",
      "[[   8.    0.    0.    0.    2.]\n",
      " [   0.   53.    3.    1.    3.]\n",
      " [   0.    0.   60.    1.    1.]\n",
      " [   1.    1.    5.  339.    5.]\n",
      " [   0.    1.    1.    0.   85.]]\n"
     ]
    },
    {
     "data": {
      "text/plain": [
       "0.95614035087719296"
      ]
     },
     "execution_count": 10,
     "metadata": {},
     "output_type": "execute_result"
    }
   ],
   "source": [
    "accuracy_check(model_ft, verbose=True, verbose_img=False, phase=\"val\")"
   ]
  },
  {
   "cell_type": "code",
   "execution_count": 11,
   "metadata": {
    "collapsed": false
   },
   "outputs": [
    {
     "name": "stdout",
     "output_type": "stream",
     "text": [
      "test Accuracy = 0.9814\n",
      "[   6.   31.   24.  154.   54.]\n",
      "total samples: 269.00\n",
      "Accuracy\n",
      "[[ 0.67  0.    0.    0.    0.  ]\n",
      " [ 0.    1.    0.    0.    0.02]\n",
      " [ 0.33  0.    1.    0.01  0.02]\n",
      " [ 0.    0.    0.    0.99  0.  ]\n",
      " [ 0.    0.    0.    0.    0.96]]\n",
      "Total\n",
      "[[   4.    0.    0.    0.    0.]\n",
      " [   0.   31.    0.    0.    1.]\n",
      " [   2.    0.   24.    1.    1.]\n",
      " [   0.    0.    0.  153.    0.]\n",
      " [   0.    0.    0.    0.   52.]]\n"
     ]
    },
    {
     "data": {
      "text/plain": [
       "0.98141263940520451"
      ]
     },
     "execution_count": 11,
     "metadata": {},
     "output_type": "execute_result"
    }
   ],
   "source": [
    "accuracy_check(model_ft, verbose=True, verbose_img=False, phase=\"test\")"
   ]
  },
  {
   "cell_type": "code",
   "execution_count": null,
   "metadata": {
    "collapsed": true
   },
   "outputs": [],
   "source": []
  },
  {
   "cell_type": "code",
   "execution_count": null,
   "metadata": {
    "collapsed": false
   },
   "outputs": [],
   "source": [
    "##############################################\n",
    "# SHOW IMAGES IN DATASET (OPTIONAL)          #\n",
    "##############################################\n",
    "\n",
    "def imshow(inp, title=None):\n",
    "    \"\"\"Imshow for Tensor.\"\"\"\n",
    "    inp = inp.numpy().transpose((1, 2, 0))\n",
    "    mean = np.array([0.485, 0.456, 0.406])\n",
    "    std = np.array([0.229, 0.224, 0.225])\n",
    "    inp = std * inp + mean\n",
    "    plt.imshow(inp)\n",
    "    if title is not None:\n",
    "        plt.title(title)\n",
    "    plt.pause(0.001)  # pause a bit so that plots are updated\n",
    "\n",
    "\n",
    "# Get a batch of training data\n",
    "inputs, classes = next(iter(dset_loaders['train']))\n",
    "\n",
    "# Make a grid from batch\n",
    "out = torchvision.utils.make_grid(inputs)\n",
    "\n",
    "plt.figure(figsize=(50,20))\n",
    "imshow(out, title=[dset_classes[x] for x in classes])"
   ]
  },
  {
   "cell_type": "code",
   "execution_count": 16,
   "metadata": {
    "collapsed": false
   },
   "outputs": [],
   "source": []
  },
  {
   "cell_type": "code",
   "execution_count": 17,
   "metadata": {
    "collapsed": true
   },
   "outputs": [],
   "source": [
    "torch.save(model_ft, 'lilymodel3_randomhorizontalflip.pt')"
   ]
  }
 ],
 "metadata": {
  "kernelspec": {
   "display_name": "Python 3",
   "language": "python",
   "name": "python3"
  },
  "language_info": {
   "codemirror_mode": {
    "name": "ipython",
    "version": 3
   },
   "file_extension": ".py",
   "mimetype": "text/x-python",
   "name": "python",
   "nbconvert_exporter": "python",
   "pygments_lexer": "ipython3",
   "version": "3.5.2"
  }
 },
 "nbformat": 4,
 "nbformat_minor": 0
}
